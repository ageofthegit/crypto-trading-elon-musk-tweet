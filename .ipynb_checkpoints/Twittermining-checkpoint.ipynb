{
 "cells": [
  {
   "cell_type": "code",
   "execution_count": 1,
   "id": "74377274",
   "metadata": {},
   "outputs": [],
   "source": [
    "#!pip install tweepy"
   ]
  },
  {
   "cell_type": "code",
   "execution_count": 2,
   "id": "087e0a6a",
   "metadata": {},
   "outputs": [
    {
     "data": {
      "text/plain": [
       "'\\nImportant updates needed \\n\\n    - Included replies by elonmusk to his own tweets\\n    - Search or analyse history to see how the price of the dogecoing changes with his tweets, replies and retweets \\n    \\n'"
      ]
     },
     "execution_count": 2,
     "metadata": {},
     "output_type": "execute_result"
    }
   ],
   "source": [
    "\n",
    "\n",
    "'''\n",
    "Important updates needed \n",
    "\n",
    "    - Included replies by elonmusk to his own tweets\n",
    "    - Search or analyse history to see how the price of the dogecoing changes with his tweets, replies and retweets \n",
    "    \n",
    "'''\n"
   ]
  },
  {
   "cell_type": "markdown",
   "id": "d3302e84",
   "metadata": {},
   "source": [
    "# FUTURES.PY "
   ]
  },
  {
   "cell_type": "markdown",
   "id": "6f45827c",
   "metadata": {},
   "source": [
    "## WHICH COMPUTER?  "
   ]
  },
  {
   "cell_type": "code",
   "execution_count": 3,
   "id": "baa7150d",
   "metadata": {},
   "outputs": [
    {
     "data": {
      "text/plain": [
       "\"\\nif platform.node() = 'Yoda':\\n    print('Remote server')\\nif platform.node() = 'R2D2':\\n    print('My own computer')\\n\\n\""
      ]
     },
     "execution_count": 3,
     "metadata": {},
     "output_type": "execute_result"
    }
   ],
   "source": [
    "import platform\n",
    "\n",
    "'''\n",
    "if platform.node() = 'Yoda':\n",
    "    print('Remote server')\n",
    "if platform.node() = 'R2D2':\n",
    "    print('My own computer')\n",
    "\n",
    "'''\n"
   ]
  },
  {
   "cell_type": "markdown",
   "id": "eeee7efe",
   "metadata": {},
   "source": [
    "## ADDING THE SHARED FOLDER TO SYS.PATH FOR IMPORTING SHARED FILES  "
   ]
  },
  {
   "cell_type": "code",
   "execution_count": 4,
   "id": "9f445225",
   "metadata": {},
   "outputs": [
    {
     "name": "stdout",
     "output_type": "stream",
     "text": [
      "['D:\\\\OneDrive\\\\Trading\\\\Work', 'C:\\\\ProgramData\\\\Anaconda3\\\\python38.zip', 'C:\\\\ProgramData\\\\Anaconda3\\\\DLLs', 'C:\\\\ProgramData\\\\Anaconda3\\\\lib', 'C:\\\\ProgramData\\\\Anaconda3', '', 'C:\\\\ProgramData\\\\Anaconda3\\\\lib\\\\site-packages', 'C:\\\\ProgramData\\\\Anaconda3\\\\lib\\\\site-packages\\\\win32', 'C:\\\\ProgramData\\\\Anaconda3\\\\lib\\\\site-packages\\\\win32\\\\lib', 'C:\\\\ProgramData\\\\Anaconda3\\\\lib\\\\site-packages\\\\Pythonwin', 'C:\\\\ProgramData\\\\Anaconda3\\\\lib\\\\site-packages\\\\IPython\\\\extensions', 'C:\\\\Users\\\\karan\\\\.ipython']\n",
      "\n",
      "Length of sys.path is  12\n",
      "\n",
      "['D:\\\\OneDrive\\\\Trading\\\\Work', 'D:\\\\OneDrive\\\\Trading\\\\Shared', 'C:\\\\ProgramData\\\\Anaconda3\\\\python38.zip', 'C:\\\\ProgramData\\\\Anaconda3\\\\DLLs', 'C:\\\\ProgramData\\\\Anaconda3\\\\lib', 'C:\\\\ProgramData\\\\Anaconda3', '', 'C:\\\\ProgramData\\\\Anaconda3\\\\lib\\\\site-packages', 'C:\\\\ProgramData\\\\Anaconda3\\\\lib\\\\site-packages\\\\win32', 'C:\\\\ProgramData\\\\Anaconda3\\\\lib\\\\site-packages\\\\win32\\\\lib', 'C:\\\\ProgramData\\\\Anaconda3\\\\lib\\\\site-packages\\\\Pythonwin', 'C:\\\\ProgramData\\\\Anaconda3\\\\lib\\\\site-packages\\\\IPython\\\\extensions', 'C:\\\\Users\\\\karan\\\\.ipython']\n",
      "\n",
      "Length of sys.path is  13\n"
     ]
    }
   ],
   "source": [
    "\n",
    "import sys\n",
    "\n",
    "print(sys.path)\n",
    "print('')\n",
    "print('Length of sys.path is ', len(sys.path))\n",
    "print('')\n",
    "\n",
    "# insert at 1, 0 is the script path (or '' in REPL)\n",
    "if (platform.node() == 'R2D2') and ('D:\\\\OneDrive\\\\Trading\\\\Shared' not in sys.path):\n",
    "    sys.path.insert(1, 'D:\\\\OneDrive\\\\Trading\\\\Shared')\n",
    "    \n",
    "if (platform.node() == 'Yoda') and ('C:\\\\Users\\\\MasterYoda\\\\Documents\\\\OneDrive\\\\Trading\\\\Shared' not in sys.path):\n",
    "    sys.path.insert(1, 'C:\\\\Users\\\\MasterYoda\\\\Documents\\\\OneDrive\\\\Trading\\\\Shared')\n",
    "\n",
    "print(sys.path)\n",
    "print('')\n",
    "print('Length of sys.path is ', len(sys.path))\n"
   ]
  },
  {
   "cell_type": "markdown",
   "id": "575854d7",
   "metadata": {},
   "source": [
    "### IMPORTING SHARED FILES"
   ]
  },
  {
   "cell_type": "code",
   "execution_count": 5,
   "id": "d3dbce31",
   "metadata": {},
   "outputs": [],
   "source": [
    "\n",
    "import shared\n",
    "import funcs\n",
    "import twitter\n"
   ]
  },
  {
   "cell_type": "markdown",
   "id": "f02c6695",
   "metadata": {},
   "source": [
    "### IMPORTING OTHER MODULES"
   ]
  },
  {
   "cell_type": "code",
   "execution_count": 6,
   "id": "6d39726a",
   "metadata": {},
   "outputs": [],
   "source": [
    "\n",
    "import datetime\n",
    "import pandas as pd\n",
    "import pytz, pprint\n",
    "import pprint \n"
   ]
  },
  {
   "cell_type": "code",
   "execution_count": 7,
   "id": "9e2d2ac9",
   "metadata": {},
   "outputs": [],
   "source": [
    "# for creating folders \n",
    "\n",
    "import os\n"
   ]
  },
  {
   "cell_type": "code",
   "execution_count": 8,
   "id": "da2585f4",
   "metadata": {},
   "outputs": [],
   "source": [
    "# for logging\n",
    "\n",
    "import logging \n",
    "from datetime import date\n"
   ]
  },
  {
   "cell_type": "code",
   "execution_count": 9,
   "id": "6bc30eb6",
   "metadata": {},
   "outputs": [],
   "source": [
    "# for twittermining\n",
    "import tweepy\n",
    "import re"
   ]
  },
  {
   "cell_type": "markdown",
   "id": "0ccf6ed7",
   "metadata": {},
   "source": [
    "### DEFINIING THE LOGFILE ATTRIBUTES"
   ]
  },
  {
   "cell_type": "code",
   "execution_count": 30,
   "id": "f364671d",
   "metadata": {},
   "outputs": [],
   "source": [
    "\n",
    "# setting logger level for output\n",
    "\n",
    "# insert at 1, 0 is the script path (or '' in REPL)\n",
    "\n",
    "logfilename = 'Twittermining_{}.log'.format(date.today().strftime(\"%Y_%m_%d\"))\n",
    "\n",
    "if (platform.node() == 'R2D2'):\n",
    "    logging.basicConfig(filename='D:\\\\OneDrive\\\\Trading\\\\Logs\\\\{}'.format(logfilename)\n",
    "                        , level = logging.DEBUG\n",
    "                        , force = True\n",
    "                        , format = '%(asctime)s:\\t%(message)s'\n",
    "                        , datefmt ='%Y-%m-%d %H:%M')\n",
    "    \n",
    "if (platform.node() == 'Yoda'):\n",
    "    logging.basicConfig(filename='C:\\\\Users\\\\MasterYoda\\\\Documents\\\\OneDrive\\\\Trading\\\\Logs\\\\{}'.format(logfilename)\n",
    "                        , level=logging.DEBUG\n",
    "                        , force =True\n",
    "                        , format='%(asctime)s:\\t%(message)s'\n",
    "                        , datefmt='%Y-%m-%d %H:%M')\n"
   ]
  },
  {
   "cell_type": "code",
   "execution_count": 10,
   "id": "5a506251",
   "metadata": {},
   "outputs": [],
   "source": [
    "\n",
    "logger = logging.getLogger()\n",
    "logger.setLevel(level= logging.DEBUG) \n"
   ]
  },
  {
   "cell_type": "code",
   "execution_count": 11,
   "id": "ccc87847",
   "metadata": {},
   "outputs": [],
   "source": [
    "\n",
    "# Twitter analysis  \n",
    "\n",
    "auth = tweepy.OAuthHandler(twitter.consumer_key, twitter.consumer_secret)\n",
    "auth.set_access_token(twitter.access_token, twitter.access_token_secret)\n",
    "api = tweepy.API(auth)\n"
   ]
  },
  {
   "cell_type": "code",
   "execution_count": 12,
   "id": "391c2082",
   "metadata": {},
   "outputs": [
    {
     "name": "stdout",
     "output_type": "stream",
     "text": [
      "#MumbaiPolice take a dig at #TigerShroff and #DishaPatani in their latest tweet.\n",
      "\n",
      "https://t.co/7WyWLCWlFD\n",
      "RT @penpencildraw: Zoom calls. https://t.co/aMABmwxSUR\n",
      "Hear from Loz ahead of the game tonight 👌 #NRLDragonsBroncos https://t.co/E2rwdwi6de\n",
      "EXCLUSIVE Tesla supplier CATL plans a new battery plant in Shanghai-sources https://t.co/TqUdem7rC0 https://t.co/08wS7oyxzK\n",
      "The pack of individual investors touting AMC on message boards like Reddit's WallStreetBets pushed the cinema opera… https://t.co/7aKa61Dmx3\n",
      "Despite the inadequacies in the paper, government representatives explicitly endorsed the Coronil kit. In the 19 Fe… https://t.co/NQlx9rGBpm\n",
      "Hello to you lovely new followers. \n",
      "\n",
      "This year I had my debut at the Opening Night Comedy Allstars Supershow for Me… https://t.co/BL0rAYxisL\n",
      "JBS employees started returning to U.S. meat plants, a day after the company's beef operations stopped following a… https://t.co/yRRF7EUjJL\n",
      "$317,000 quaddie dividend at Wangaratta... HUGE! 💰\n",
      "\n",
      "Was anyone lucky enough to collect? https://t.co/oMRLIjfYWV\n",
      "Josh Richards lost his balance on Who's Your Papy and has walked back to the jockeys room. 😯 https://t.co/uy6j811nCv\n",
      "What you can expect from the Pentagon UFO report. #9News\n",
      "https://t.co/UlnTFgGHrG\n",
      "Five NBL players will represent 🇦🇺 at the upcoming @FIBA U19 Basketball World Cup 🙌\n",
      "\n",
      "@BasketballAus #NBL21-22 \n",
      "\n",
      "https://t.co/SxroPw0LDN\n",
      "Exclusive: ABC management has pulled an upcoming @4corners episode about the relationship between @ScottMorrisonMP… https://t.co/MzPlTXuOHb\n",
      "With a huge shout out to @JamesFosdike who REALLY had to earn his money bringing those curls to life! 💚\n",
      "Etsy takes thrift out of online thrift store https://t.co/0sFSP0efsc https://t.co/e1sDkijKR6\n",
      "If you’re bored in lockdown, or just in general, might I remind you that I had the pleasure of being a guest on the… https://t.co/lJ901rzKQf\n",
      "Exclusive: ABC management has pulled an upcoming Four Corners episode about the relationship between Prime Minister… https://t.co/a3txIjnExC\n",
      "Wow wee! 😯 https://t.co/4s7ZNed8Do\n",
      "How the Trinamool government failed to prepare for and respond to the COVID-19 second wave\n",
      "\n",
      "@aroonimakar reports:… https://t.co/9I8ItT6dEm\n",
      "RT @CommSec: The Aussie market finished higher for a 2nd day, with the #ASX 200 +42.3pts or +0.59% to 7260.1. Almost all sectors rose. Ener…\n"
     ]
    }
   ],
   "source": [
    "\n",
    "public_tweets = api.home_timeline()\n",
    "for tweet in public_tweets:\n",
    "    print(tweet.text)\n",
    "    "
   ]
  },
  {
   "cell_type": "code",
   "execution_count": 15,
   "id": "28cec039",
   "metadata": {},
   "outputs": [
    {
     "name": "stdout",
     "output_type": "stream",
     "text": [
      "2021-06-03 02:39:15\n",
      "RT @SpaceX: Beginning early next year, SpaceX will carry four @Axiom_Space crews to and from the @space_station → https://t.co/yq6mryOFeS h…\n",
      "2021-06-03 01:26:00\n",
      "@PPathole Yup\n",
      "2021-06-02 11:59:04\n",
      "@teslaownersSV Thanks :) Seriously, it was so insane! Fud still happening a little, but doesn’t resonate when enoug… https://t.co/PXei3kKxkf\n",
      "2021-06-02 11:53:02\n",
      "@28delayslater @eamokeane 🤔\n",
      "2021-06-02 11:52:08\n",
      "@Neuro_Skeptic Some quarks &amp; a lepton walk into a bar …\n",
      "2021-06-02 11:48:02\n",
      "@eamokeane Things get weird at the driver level\n",
      "2021-06-02 11:34:02\n",
      "@WholeMarsBlog That’s where we get most of our lithium. Also, whereas phone batteries make heavy use of cobalt in c… https://t.co/Nt0Eu3qVZe\n",
      "2021-06-02 09:57:18\n",
      "@Teslarati @ResidentSponge https://t.co/porMpnWtuk\n",
      "2021-06-02 09:51:34\n",
      "@teslaownersSV We went public for $3.40/share!\n",
      "2021-06-02 08:36:44\n",
      "@PPathole @SpaceX Science-fiction should not be fiction forever!\n",
      "2021-06-02 08:02:15\n",
      "@ErcXspace @austinbarnard45 @SpaceX @NASASpaceflight Might take a few kicks at the can before we catch the rocket haha\n",
      "2021-06-02 07:59:59\n",
      "@p_ferragu Our biggest challenge is supply chain, especially microcontroller chips. Never seen anything like it.… https://t.co/ZYsj5YfVEw\n",
      "2021-06-02 07:05:02\n",
      "Found this pic of me as a child https://t.co/hUEKluRAdP\n",
      "2021-06-02 04:11:50\n",
      "@Teslarati @Writer_01001101 Sigh\n",
      "2021-06-01 23:54:20\n",
      "@dogeofficialceo @SouthPark When I visit Japan later this year\n",
      "2021-06-01 23:46:18\n",
      "@SouthPark Baby Shark crushes all! More views than humans. https://t.co/48Ol3ZzhjP\n",
      "2021-06-01 23:28:02\n",
      "@CoinDesk @CoinbasePro @nikhileshde … https://t.co/Nknrxkb0RV\n",
      "2021-06-01 23:23:53\n",
      "RT @SpaceX: Falcon 9 and Dragon roll out to Launch Complex 39A ahead of Dragon's 22nd cargo resupply mission to the @Space_Station https://…\n",
      "2021-06-01 05:59:37\n",
      "@itsALLrisky Sounds kinda fun\n",
      "2021-06-01 05:57:53\n",
      "@ValaAfshar OG Smartwatch\n"
     ]
    }
   ],
   "source": [
    "cursor = tweepy.Cursor(api.user_timeline , id = 'elonmusk', tweetmode = \"extended\", exclude_replies = False , include_rts = True).items(20)\n",
    "\n",
    "for i in cursor:\n",
    "    print(i.created_at)\n",
    "    print(i.text)\n",
    "\n"
   ]
  },
  {
   "cell_type": "code",
   "execution_count": 35,
   "id": "cc2c9656",
   "metadata": {},
   "outputs": [
    {
     "name": "stdout",
     "output_type": "stream",
     "text": [
      "<class 'tweepy.models.Status'>\n",
      "['__class__', '__delattr__', '__dict__', '__dir__', '__doc__', '__eq__', '__format__', '__ge__', '__getattribute__', '__getstate__', '__gt__', '__hash__', '__init__', '__init_subclass__', '__le__', '__lt__', '__module__', '__ne__', '__new__', '__reduce__', '__reduce_ex__', '__repr__', '__setattr__', '__sizeof__', '__str__', '__subclasshook__', '__weakref__', '_api', '_json', 'author', 'contributors', 'coordinates', 'created_at', 'destroy', 'entities', 'extended_entities', 'favorite', 'favorite_count', 'favorited', 'geo', 'id', 'id_str', 'in_reply_to_screen_name', 'in_reply_to_status_id', 'in_reply_to_status_id_str', 'in_reply_to_user_id', 'in_reply_to_user_id_str', 'is_quote_status', 'lang', 'parse', 'parse_list', 'place', 'possibly_sensitive', 'retweet', 'retweet_count', 'retweeted', 'retweets', 'source', 'source_url', 'text', 'truncated', 'user']\n",
      "Deep thots https://t.co/J5mJff7IIL\n",
      "269954\n",
      "None\n",
      "Status(_api=<tweepy.api.API object at 0x000002045E0F91C0>, _json={'created_at': 'Wed May 26 18:47:30 +0000 2021', 'id': 1397625459437826049, 'id_str': '1397625459437826049', 'text': 'Deep thots https://t.co/J5mJff7IIL', 'truncated': False, 'entities': {'hashtags': [], 'symbols': [], 'user_mentions': [], 'urls': [], 'media': [{'id': 1397625455172153344, 'id_str': '1397625455172153344', 'indices': [11, 34], 'media_url': 'http://pbs.twimg.com/media/E2Vc8lCUcAA041L.jpg', 'media_url_https': 'https://pbs.twimg.com/media/E2Vc8lCUcAA041L.jpg', 'url': 'https://t.co/J5mJff7IIL', 'display_url': 'pic.twitter.com/J5mJff7IIL', 'expanded_url': 'https://twitter.com/elonmusk/status/1397625459437826049/photo/1', 'type': 'photo', 'sizes': {'small': {'w': 650, 'h': 680, 'resize': 'fit'}, 'thumb': {'w': 150, 'h': 150, 'resize': 'crop'}, 'medium': {'w': 1147, 'h': 1200, 'resize': 'fit'}, 'large': {'w': 1284, 'h': 1343, 'resize': 'fit'}}}]}, 'extended_entities': {'media': [{'id': 1397625455172153344, 'id_str': '1397625455172153344', 'indices': [11, 34], 'media_url': 'http://pbs.twimg.com/media/E2Vc8lCUcAA041L.jpg', 'media_url_https': 'https://pbs.twimg.com/media/E2Vc8lCUcAA041L.jpg', 'url': 'https://t.co/J5mJff7IIL', 'display_url': 'pic.twitter.com/J5mJff7IIL', 'expanded_url': 'https://twitter.com/elonmusk/status/1397625459437826049/photo/1', 'type': 'photo', 'sizes': {'small': {'w': 650, 'h': 680, 'resize': 'fit'}, 'thumb': {'w': 150, 'h': 150, 'resize': 'crop'}, 'medium': {'w': 1147, 'h': 1200, 'resize': 'fit'}, 'large': {'w': 1284, 'h': 1343, 'resize': 'fit'}}}]}, 'source': '<a href=\"http://twitter.com/download/iphone\" rel=\"nofollow\">Twitter for iPhone</a>', 'in_reply_to_status_id': None, 'in_reply_to_status_id_str': None, 'in_reply_to_user_id': None, 'in_reply_to_user_id_str': None, 'in_reply_to_screen_name': None, 'user': {'id': 44196397, 'id_str': '44196397', 'name': 'Elon Musk', 'screen_name': 'elonmusk', 'location': '', 'description': '', 'url': None, 'entities': {'description': {'urls': []}}, 'protected': False, 'followers_count': 56074089, 'friends_count': 106, 'listed_count': 73256, 'created_at': 'Tue Jun 02 20:12:29 +0000 2009', 'favourites_count': 8852, 'utc_offset': None, 'time_zone': None, 'geo_enabled': False, 'verified': True, 'statuses_count': 14371, 'lang': None, 'contributors_enabled': False, 'is_translator': False, 'is_translation_enabled': False, 'profile_background_color': 'C0DEED', 'profile_background_image_url': 'http://abs.twimg.com/images/themes/theme1/bg.png', 'profile_background_image_url_https': 'https://abs.twimg.com/images/themes/theme1/bg.png', 'profile_background_tile': False, 'profile_image_url': 'http://pbs.twimg.com/profile_images/1383184766959120385/MM9DHPWC_normal.jpg', 'profile_image_url_https': 'https://pbs.twimg.com/profile_images/1383184766959120385/MM9DHPWC_normal.jpg', 'profile_banner_url': 'https://pbs.twimg.com/profile_banners/44196397/1576183471', 'profile_link_color': '0084B4', 'profile_sidebar_border_color': 'C0DEED', 'profile_sidebar_fill_color': 'DDEEF6', 'profile_text_color': '333333', 'profile_use_background_image': True, 'has_extended_profile': True, 'default_profile': False, 'default_profile_image': False, 'following': True, 'follow_request_sent': False, 'notifications': False, 'translator_type': 'none', 'withheld_in_countries': []}, 'geo': None, 'coordinates': None, 'place': None, 'contributors': None, 'is_quote_status': False, 'retweet_count': 26295, 'favorite_count': 269954, 'favorited': False, 'retweeted': False, 'possibly_sensitive': False, 'lang': 'en'}, created_at=datetime.datetime(2021, 5, 26, 18, 47, 30), id=1397625459437826049, id_str='1397625459437826049', text='Deep thots https://t.co/J5mJff7IIL', truncated=False, entities={'hashtags': [], 'symbols': [], 'user_mentions': [], 'urls': [], 'media': [{'id': 1397625455172153344, 'id_str': '1397625455172153344', 'indices': [11, 34], 'media_url': 'http://pbs.twimg.com/media/E2Vc8lCUcAA041L.jpg', 'media_url_https': 'https://pbs.twimg.com/media/E2Vc8lCUcAA041L.jpg', 'url': 'https://t.co/J5mJff7IIL', 'display_url': 'pic.twitter.com/J5mJff7IIL', 'expanded_url': 'https://twitter.com/elonmusk/status/1397625459437826049/photo/1', 'type': 'photo', 'sizes': {'small': {'w': 650, 'h': 680, 'resize': 'fit'}, 'thumb': {'w': 150, 'h': 150, 'resize': 'crop'}, 'medium': {'w': 1147, 'h': 1200, 'resize': 'fit'}, 'large': {'w': 1284, 'h': 1343, 'resize': 'fit'}}}]}, extended_entities={'media': [{'id': 1397625455172153344, 'id_str': '1397625455172153344', 'indices': [11, 34], 'media_url': 'http://pbs.twimg.com/media/E2Vc8lCUcAA041L.jpg', 'media_url_https': 'https://pbs.twimg.com/media/E2Vc8lCUcAA041L.jpg', 'url': 'https://t.co/J5mJff7IIL', 'display_url': 'pic.twitter.com/J5mJff7IIL', 'expanded_url': 'https://twitter.com/elonmusk/status/1397625459437826049/photo/1', 'type': 'photo', 'sizes': {'small': {'w': 650, 'h': 680, 'resize': 'fit'}, 'thumb': {'w': 150, 'h': 150, 'resize': 'crop'}, 'medium': {'w': 1147, 'h': 1200, 'resize': 'fit'}, 'large': {'w': 1284, 'h': 1343, 'resize': 'fit'}}}]}, source='Twitter for iPhone', source_url='http://twitter.com/download/iphone', in_reply_to_status_id=None, in_reply_to_status_id_str=None, in_reply_to_user_id=None, in_reply_to_user_id_str=None, in_reply_to_screen_name=None, author=User(_api=<tweepy.api.API object at 0x000002045E0F91C0>, _json={'id': 44196397, 'id_str': '44196397', 'name': 'Elon Musk', 'screen_name': 'elonmusk', 'location': '', 'description': '', 'url': None, 'entities': {'description': {'urls': []}}, 'protected': False, 'followers_count': 56074089, 'friends_count': 106, 'listed_count': 73256, 'created_at': 'Tue Jun 02 20:12:29 +0000 2009', 'favourites_count': 8852, 'utc_offset': None, 'time_zone': None, 'geo_enabled': False, 'verified': True, 'statuses_count': 14371, 'lang': None, 'contributors_enabled': False, 'is_translator': False, 'is_translation_enabled': False, 'profile_background_color': 'C0DEED', 'profile_background_image_url': 'http://abs.twimg.com/images/themes/theme1/bg.png', 'profile_background_image_url_https': 'https://abs.twimg.com/images/themes/theme1/bg.png', 'profile_background_tile': False, 'profile_image_url': 'http://pbs.twimg.com/profile_images/1383184766959120385/MM9DHPWC_normal.jpg', 'profile_image_url_https': 'https://pbs.twimg.com/profile_images/1383184766959120385/MM9DHPWC_normal.jpg', 'profile_banner_url': 'https://pbs.twimg.com/profile_banners/44196397/1576183471', 'profile_link_color': '0084B4', 'profile_sidebar_border_color': 'C0DEED', 'profile_sidebar_fill_color': 'DDEEF6', 'profile_text_color': '333333', 'profile_use_background_image': True, 'has_extended_profile': True, 'default_profile': False, 'default_profile_image': False, 'following': True, 'follow_request_sent': False, 'notifications': False, 'translator_type': 'none', 'withheld_in_countries': []}, id=44196397, id_str='44196397', name='Elon Musk', screen_name='elonmusk', location='', description='', url=None, entities={'description': {'urls': []}}, protected=False, followers_count=56074089, friends_count=106, listed_count=73256, created_at=datetime.datetime(2009, 6, 2, 20, 12, 29), favourites_count=8852, utc_offset=None, time_zone=None, geo_enabled=False, verified=True, statuses_count=14371, lang=None, contributors_enabled=False, is_translator=False, is_translation_enabled=False, profile_background_color='C0DEED', profile_background_image_url='http://abs.twimg.com/images/themes/theme1/bg.png', profile_background_image_url_https='https://abs.twimg.com/images/themes/theme1/bg.png', profile_background_tile=False, profile_image_url='http://pbs.twimg.com/profile_images/1383184766959120385/MM9DHPWC_normal.jpg', profile_image_url_https='https://pbs.twimg.com/profile_images/1383184766959120385/MM9DHPWC_normal.jpg', profile_banner_url='https://pbs.twimg.com/profile_banners/44196397/1576183471', profile_link_color='0084B4', profile_sidebar_border_color='C0DEED', profile_sidebar_fill_color='DDEEF6', profile_text_color='333333', profile_use_background_image=True, has_extended_profile=True, default_profile=False, default_profile_image=False, following=True, follow_request_sent=False, notifications=False, translator_type='none', withheld_in_countries=[]), user=User(_api=<tweepy.api.API object at 0x000002045E0F91C0>, _json={'id': 44196397, 'id_str': '44196397', 'name': 'Elon Musk', 'screen_name': 'elonmusk', 'location': '', 'description': '', 'url': None, 'entities': {'description': {'urls': []}}, 'protected': False, 'followers_count': 56074089, 'friends_count': 106, 'listed_count': 73256, 'created_at': 'Tue Jun 02 20:12:29 +0000 2009', 'favourites_count': 8852, 'utc_offset': None, 'time_zone': None, 'geo_enabled': False, 'verified': True, 'statuses_count': 14371, 'lang': None, 'contributors_enabled': False, 'is_translator': False, 'is_translation_enabled': False, 'profile_background_color': 'C0DEED', 'profile_background_image_url': 'http://abs.twimg.com/images/themes/theme1/bg.png', 'profile_background_image_url_https': 'https://abs.twimg.com/images/themes/theme1/bg.png', 'profile_background_tile': False, 'profile_image_url': 'http://pbs.twimg.com/profile_images/1383184766959120385/MM9DHPWC_normal.jpg', 'profile_image_url_https': 'https://pbs.twimg.com/profile_images/1383184766959120385/MM9DHPWC_normal.jpg', 'profile_banner_url': 'https://pbs.twimg.com/profile_banners/44196397/1576183471', 'profile_link_color': '0084B4', 'profile_sidebar_border_color': 'C0DEED', 'profile_sidebar_fill_color': 'DDEEF6', 'profile_text_color': '333333', 'profile_use_background_image': True, 'has_extended_profile': True, 'default_profile': False, 'default_profile_image': False, 'following': True, 'follow_request_sent': False, 'notifications': False, 'translator_type': 'none', 'withheld_in_countries': []}, id=44196397, id_str='44196397', name='Elon Musk', screen_name='elonmusk', location='', description='', url=None, entities={'description': {'urls': []}}, protected=False, followers_count=56074089, friends_count=106, listed_count=73256, created_at=datetime.datetime(2009, 6, 2, 20, 12, 29), favourites_count=8852, utc_offset=None, time_zone=None, geo_enabled=False, verified=True, statuses_count=14371, lang=None, contributors_enabled=False, is_translator=False, is_translation_enabled=False, profile_background_color='C0DEED', profile_background_image_url='http://abs.twimg.com/images/themes/theme1/bg.png', profile_background_image_url_https='https://abs.twimg.com/images/themes/theme1/bg.png', profile_background_tile=False, profile_image_url='http://pbs.twimg.com/profile_images/1383184766959120385/MM9DHPWC_normal.jpg', profile_image_url_https='https://pbs.twimg.com/profile_images/1383184766959120385/MM9DHPWC_normal.jpg', profile_banner_url='https://pbs.twimg.com/profile_banners/44196397/1576183471', profile_link_color='0084B4', profile_sidebar_border_color='C0DEED', profile_sidebar_fill_color='DDEEF6', profile_text_color='333333', profile_use_background_image=True, has_extended_profile=True, default_profile=False, default_profile_image=False, following=True, follow_request_sent=False, notifications=False, translator_type='none', withheld_in_countries=[]), geo=None, coordinates=None, place=None, contributors=None, is_quote_status=False, retweet_count=26295, favorite_count=269954, favorited=False, retweeted=False, possibly_sensitive=False, lang='en')\n"
     ]
    }
   ],
   "source": [
    "\n",
    "cursor = tweepy.Cursor(api.user_timeline , id = 'elonmusk', tweetmode = \"extended\", exclude_replies = True , include_rts = False).items(1)\n",
    "\n",
    "for i in cursor:\n",
    "    print(type(i))\n",
    "    print(dir(i))\n",
    "    print(i.text)\n",
    "    print(i.favorite_count)\n",
    "    print(i.in_reply_to_screen_name)\n",
    "    print(i)\n"
   ]
  },
  {
   "cell_type": "code",
   "execution_count": 10,
   "id": "1be9bcc3",
   "metadata": {},
   "outputs": [
    {
     "ename": "NameError",
     "evalue": "name 'api' is not defined",
     "output_type": "error",
     "traceback": [
      "\u001b[1;31m---------------------------------------------------------------------------\u001b[0m",
      "\u001b[1;31mNameError\u001b[0m                                 Traceback (most recent call last)",
      "\u001b[1;32m<ipython-input-10-e8b56f0122de>\u001b[0m in \u001b[0;36m<module>\u001b[1;34m\u001b[0m\n\u001b[0;32m      1\u001b[0m \u001b[1;31m# Keyword search\u001b[0m\u001b[1;33m\u001b[0m\u001b[1;33m\u001b[0m\u001b[1;33m\u001b[0m\u001b[0m\n\u001b[1;32m----> 2\u001b[1;33m \u001b[0mcursor\u001b[0m \u001b[1;33m=\u001b[0m \u001b[0mtweepy\u001b[0m\u001b[1;33m.\u001b[0m\u001b[0mCursor\u001b[0m\u001b[1;33m(\u001b[0m\u001b[0mapi\u001b[0m\u001b[1;33m.\u001b[0m\u001b[0msearch\u001b[0m \u001b[1;33m,\u001b[0m \u001b[0mq\u001b[0m \u001b[1;33m=\u001b[0m \u001b[1;34m'doge'\u001b[0m\u001b[1;33m,\u001b[0m \u001b[0mtweetmode\u001b[0m \u001b[1;33m=\u001b[0m \u001b[1;34m\"extended\"\u001b[0m\u001b[1;33m,\u001b[0m \u001b[0mexclude_replies\u001b[0m \u001b[1;33m=\u001b[0m \u001b[1;32mTrue\u001b[0m \u001b[1;33m,\u001b[0m \u001b[0minclude_rts\u001b[0m \u001b[1;33m=\u001b[0m \u001b[1;32mFalse\u001b[0m\u001b[1;33m)\u001b[0m\u001b[1;33m.\u001b[0m\u001b[0mitems\u001b[0m\u001b[1;33m(\u001b[0m\u001b[1;36m3\u001b[0m\u001b[1;33m)\u001b[0m \u001b[1;31m# twitter search with the word 'dogecoin'\u001b[0m\u001b[1;33m\u001b[0m\u001b[1;33m\u001b[0m\u001b[0m\n\u001b[0m\u001b[0;32m      3\u001b[0m \u001b[1;33m\u001b[0m\u001b[0m\n\u001b[0;32m      4\u001b[0m \u001b[1;32mfor\u001b[0m \u001b[0mi\u001b[0m \u001b[1;32min\u001b[0m \u001b[0mcursor\u001b[0m\u001b[1;33m:\u001b[0m\u001b[1;33m\u001b[0m\u001b[1;33m\u001b[0m\u001b[0m\n\u001b[0;32m      5\u001b[0m     \u001b[0mprint\u001b[0m\u001b[1;33m(\u001b[0m\u001b[0mi\u001b[0m\u001b[1;33m.\u001b[0m\u001b[0mtext\u001b[0m\u001b[1;33m)\u001b[0m\u001b[1;33m\u001b[0m\u001b[1;33m\u001b[0m\u001b[0m\n",
      "\u001b[1;31mNameError\u001b[0m: name 'api' is not defined"
     ]
    }
   ],
   "source": [
    "\n",
    "# Keyword search\n",
    "cursor = tweepy.Cursor(api.search , q = 'doge', tweetmode = \"extended\", exclude_replies = True , include_rts = False).items(3) # twitter search with the word 'dogecoin'\n",
    "\n",
    "for i in cursor:\n",
    "    print(i.text)\n",
    "    #print(i)\n"
   ]
  },
  {
   "cell_type": "code",
   "execution_count": 24,
   "id": "382e6915",
   "metadata": {},
   "outputs": [
    {
     "ename": "NameError",
     "evalue": "name 'pd' is not defined",
     "output_type": "error",
     "traceback": [
      "\u001b[1;31m---------------------------------------------------------------------------\u001b[0m",
      "\u001b[1;31mNameError\u001b[0m                                 Traceback (most recent call last)",
      "\u001b[1;32m<ipython-input-24-15cb298a6b3d>\u001b[0m in \u001b[0;36m<module>\u001b[1;34m\u001b[0m\n\u001b[0;32m     10\u001b[0m '''\n\u001b[0;32m     11\u001b[0m \u001b[1;33m\u001b[0m\u001b[0m\n\u001b[1;32m---> 12\u001b[1;33m \u001b[0mtweets_df\u001b[0m \u001b[1;33m=\u001b[0m \u001b[0mpd\u001b[0m\u001b[1;33m.\u001b[0m\u001b[0mDataFrame\u001b[0m\u001b[1;33m(\u001b[0m\u001b[0mcolumns\u001b[0m \u001b[1;33m=\u001b[0m \u001b[1;33m[\u001b[0m\u001b[1;34m'time'\u001b[0m\u001b[1;33m,\u001b[0m\u001b[1;34m'tweet'\u001b[0m\u001b[1;33m,\u001b[0m\u001b[1;34m'reply_to'\u001b[0m\u001b[1;33m,\u001b[0m\u001b[1;34m'likes'\u001b[0m\u001b[1;33m,\u001b[0m\u001b[1;34m'source'\u001b[0m\u001b[1;33m,\u001b[0m \u001b[1;34m'has_strsearch'\u001b[0m\u001b[1;33m]\u001b[0m\u001b[1;33m)\u001b[0m\u001b[1;33m\u001b[0m\u001b[1;33m\u001b[0m\u001b[0m\n\u001b[0m\u001b[0;32m     13\u001b[0m \u001b[1;33m\u001b[0m\u001b[0m\n\u001b[0;32m     14\u001b[0m \u001b[1;32mfor\u001b[0m \u001b[0mi\u001b[0m \u001b[1;32min\u001b[0m \u001b[0mtweepy\u001b[0m\u001b[1;33m.\u001b[0m\u001b[0mCursor\u001b[0m\u001b[1;33m(\u001b[0m\u001b[0mapi\u001b[0m\u001b[1;33m.\u001b[0m\u001b[0muser_timeline\u001b[0m \u001b[1;33m,\u001b[0m \u001b[0mid\u001b[0m \u001b[1;33m=\u001b[0m \u001b[1;34m'elonmusk'\u001b[0m\u001b[1;33m,\u001b[0m \u001b[0mtweetmode\u001b[0m \u001b[1;33m=\u001b[0m \u001b[1;34m\"extended\"\u001b[0m\u001b[1;33m,\u001b[0m \u001b[0mexclude_replies\u001b[0m \u001b[1;33m=\u001b[0m \u001b[1;32mTrue\u001b[0m \u001b[1;33m,\u001b[0m \u001b[0minclude_rts\u001b[0m \u001b[1;33m=\u001b[0m \u001b[1;32mFalse\u001b[0m\u001b[1;33m)\u001b[0m\u001b[1;33m.\u001b[0m\u001b[0mitems\u001b[0m\u001b[1;33m(\u001b[0m\u001b[0mnumber_of_tweets\u001b[0m\u001b[1;33m)\u001b[0m\u001b[1;33m:\u001b[0m\u001b[1;33m\u001b[0m\u001b[1;33m\u001b[0m\u001b[0m\n",
      "\u001b[1;31mNameError\u001b[0m: name 'pd' is not defined"
     ]
    }
   ],
   "source": [
    "\n",
    "number_of_tweets = 20\n",
    "stringsearch = 'rag'\n",
    "\n",
    "'''\n",
    "tweets = []\n",
    "likes = []\n",
    "time = []\n",
    "replyto = []\n",
    "source = []\n",
    "'''\n",
    "\n",
    "tweets_df = pd.DataFrame(columns = ['time','tweet','reply_to','likes','source', 'has_strsearch'])\n",
    "\n",
    "for i in tweepy.Cursor(api.user_timeline , id = 'elonmusk', tweetmode = \"extended\", exclude_replies = True , include_rts = False).items(number_of_tweets):\n",
    "    '''\n",
    "    tweets.append(i.text)\n",
    "    likes.append(i.favorite_count)\n",
    "    time.append(i.created_at)\n",
    "    replyto.append(i.in_reply_to_screen_name)\n",
    "    source.append(i.source)\n",
    "    '''\n",
    "    \n",
    "    print(i.text)    \n",
    "    tweets_df.loc[len(tweets_df)] = [i.created_at, i.text, i.in_reply_to_screen_name, i.favorite_count, i.source,  bool(re.search(stringsearch, i.text , re.IGNORECASE)) ]\n",
    "\n",
    "# tweets_df = pd.DataFrame({'tweets':tweets,'time':time}) # filling up the df using lists \n"
   ]
  },
  {
   "cell_type": "code",
   "execution_count": 78,
   "id": "53571a07",
   "metadata": {},
   "outputs": [],
   "source": [
    "\n",
    "#tweets_df.tweet.str.contains('doge', flags=re.IGNORECASE)\n"
   ]
  },
  {
   "cell_type": "code",
   "execution_count": 99,
   "id": "6430d5f0",
   "metadata": {},
   "outputs": [
    {
     "name": "stdout",
     "output_type": "stream",
     "text": [
      "(20, 6)\n"
     ]
    }
   ],
   "source": [
    "print(tweets_df.shape)"
   ]
  },
  {
   "cell_type": "code",
   "execution_count": 104,
   "id": "530b7961",
   "metadata": {},
   "outputs": [
    {
     "data": {
      "text/html": [
       "<div>\n",
       "<style scoped>\n",
       "    .dataframe tbody tr th:only-of-type {\n",
       "        vertical-align: middle;\n",
       "    }\n",
       "\n",
       "    .dataframe tbody tr th {\n",
       "        vertical-align: top;\n",
       "    }\n",
       "\n",
       "    .dataframe thead th {\n",
       "        text-align: right;\n",
       "    }\n",
       "</style>\n",
       "<table border=\"1\" class=\"dataframe\">\n",
       "  <thead>\n",
       "    <tr style=\"text-align: right;\">\n",
       "      <th></th>\n",
       "      <th>time</th>\n",
       "      <th>tweet</th>\n",
       "      <th>reply_to</th>\n",
       "      <th>likes</th>\n",
       "      <th>source</th>\n",
       "      <th>has_strsearch</th>\n",
       "    </tr>\n",
       "  </thead>\n",
       "  <tbody>\n",
       "    <tr>\n",
       "      <th>0</th>\n",
       "      <td>2021-05-24 23:48:24</td>\n",
       "      <td>Tragic story 😢 https://t.co/ACUEG5J5a9</td>\n",
       "      <td>None</td>\n",
       "      <td>46554</td>\n",
       "      <td>Twitter for iPhone</td>\n",
       "      <td>True</td>\n",
       "    </tr>\n",
       "    <tr>\n",
       "      <th>1</th>\n",
       "      <td>2021-05-24 23:00:07</td>\n",
       "      <td>@IamUpshod They told me they would appreciate ...</td>\n",
       "      <td>IamUpshod</td>\n",
       "      <td>8228</td>\n",
       "      <td>Twitter for iPhone</td>\n",
       "      <td>False</td>\n",
       "    </tr>\n",
       "    <tr>\n",
       "      <th>2</th>\n",
       "      <td>2021-05-24 20:29:33</td>\n",
       "      <td>Someone suggested changing Dogecoin fees based...</td>\n",
       "      <td>elonmusk</td>\n",
       "      <td>65000</td>\n",
       "      <td>Twitter for iPhone</td>\n",
       "      <td>False</td>\n",
       "    </tr>\n",
       "    <tr>\n",
       "      <th>3</th>\n",
       "      <td>2021-05-24 19:49:56</td>\n",
       "      <td>If you’d like to help develop Doge, please sub...</td>\n",
       "      <td>None</td>\n",
       "      <td>122211</td>\n",
       "      <td>Twitter for iPhone</td>\n",
       "      <td>False</td>\n",
       "    </tr>\n",
       "    <tr>\n",
       "      <th>4</th>\n",
       "      <td>2021-05-24 19:42:36</td>\n",
       "      <td>Spoke with North American Bitcoin miners. They...</td>\n",
       "      <td>None</td>\n",
       "      <td>218834</td>\n",
       "      <td>Twitter for iPhone</td>\n",
       "      <td>False</td>\n",
       "    </tr>\n",
       "  </tbody>\n",
       "</table>\n",
       "</div>"
      ],
      "text/plain": [
       "                 time                                              tweet  \\\n",
       "0 2021-05-24 23:48:24             Tragic story 😢 https://t.co/ACUEG5J5a9   \n",
       "1 2021-05-24 23:00:07  @IamUpshod They told me they would appreciate ...   \n",
       "2 2021-05-24 20:29:33  Someone suggested changing Dogecoin fees based...   \n",
       "3 2021-05-24 19:49:56  If you’d like to help develop Doge, please sub...   \n",
       "4 2021-05-24 19:42:36  Spoke with North American Bitcoin miners. They...   \n",
       "\n",
       "    reply_to   likes              source has_strsearch  \n",
       "0       None   46554  Twitter for iPhone          True  \n",
       "1  IamUpshod    8228  Twitter for iPhone         False  \n",
       "2   elonmusk   65000  Twitter for iPhone         False  \n",
       "3       None  122211  Twitter for iPhone         False  \n",
       "4       None  218834  Twitter for iPhone         False  "
      ]
     },
     "execution_count": 104,
     "metadata": {},
     "output_type": "execute_result"
    }
   ],
   "source": [
    "tweets_df.sort_values(by='time', ascending = False).head()"
   ]
  },
  {
   "cell_type": "code",
   "execution_count": 120,
   "id": "0c26b59a",
   "metadata": {},
   "outputs": [],
   "source": [
    "\n",
    "tweets_df = tweets_df[(tweets_df.reply_to.isnull())]\n"
   ]
  },
  {
   "cell_type": "code",
   "execution_count": 121,
   "id": "a4303aa0",
   "metadata": {},
   "outputs": [
    {
     "name": "stdout",
     "output_type": "stream",
     "text": [
      "(5, 6)\n"
     ]
    }
   ],
   "source": [
    "print(tweets_df.shape)"
   ]
  },
  {
   "cell_type": "code",
   "execution_count": 122,
   "id": "0b2b2442",
   "metadata": {},
   "outputs": [
    {
     "data": {
      "text/html": [
       "<div>\n",
       "<style scoped>\n",
       "    .dataframe tbody tr th:only-of-type {\n",
       "        vertical-align: middle;\n",
       "    }\n",
       "\n",
       "    .dataframe tbody tr th {\n",
       "        vertical-align: top;\n",
       "    }\n",
       "\n",
       "    .dataframe thead th {\n",
       "        text-align: right;\n",
       "    }\n",
       "</style>\n",
       "<table border=\"1\" class=\"dataframe\">\n",
       "  <thead>\n",
       "    <tr style=\"text-align: right;\">\n",
       "      <th></th>\n",
       "      <th>time</th>\n",
       "      <th>tweet</th>\n",
       "      <th>reply_to</th>\n",
       "      <th>likes</th>\n",
       "      <th>source</th>\n",
       "      <th>has_strsearch</th>\n",
       "    </tr>\n",
       "  </thead>\n",
       "  <tbody>\n",
       "    <tr>\n",
       "      <th>0</th>\n",
       "      <td>2021-05-24 23:48:24</td>\n",
       "      <td>Tragic story 😢 https://t.co/ACUEG5J5a9</td>\n",
       "      <td>None</td>\n",
       "      <td>47378</td>\n",
       "      <td>Twitter for iPhone</td>\n",
       "      <td>True</td>\n",
       "    </tr>\n",
       "    <tr>\n",
       "      <th>3</th>\n",
       "      <td>2021-05-24 19:49:56</td>\n",
       "      <td>If you’d like to help develop Doge, please sub...</td>\n",
       "      <td>None</td>\n",
       "      <td>122412</td>\n",
       "      <td>Twitter for iPhone</td>\n",
       "      <td>False</td>\n",
       "    </tr>\n",
       "    <tr>\n",
       "      <th>4</th>\n",
       "      <td>2021-05-24 19:42:36</td>\n",
       "      <td>Spoke with North American Bitcoin miners. They...</td>\n",
       "      <td>None</td>\n",
       "      <td>219186</td>\n",
       "      <td>Twitter for iPhone</td>\n",
       "      <td>False</td>\n",
       "    </tr>\n",
       "    <tr>\n",
       "      <th>7</th>\n",
       "      <td>2021-05-22 22:22:56</td>\n",
       "      <td>https://t.co/7afq6DIlzc</td>\n",
       "      <td>None</td>\n",
       "      <td>405667</td>\n",
       "      <td>Twitter for iPhone</td>\n",
       "      <td>False</td>\n",
       "    </tr>\n",
       "    <tr>\n",
       "      <th>11</th>\n",
       "      <td>2021-05-22 09:22:41</td>\n",
       "      <td>Any sufficiently advanced magic is indistingui...</td>\n",
       "      <td>None</td>\n",
       "      <td>277856</td>\n",
       "      <td>Twitter for iPhone</td>\n",
       "      <td>False</td>\n",
       "    </tr>\n",
       "  </tbody>\n",
       "</table>\n",
       "</div>"
      ],
      "text/plain": [
       "                  time                                              tweet  \\\n",
       "0  2021-05-24 23:48:24             Tragic story 😢 https://t.co/ACUEG5J5a9   \n",
       "3  2021-05-24 19:49:56  If you’d like to help develop Doge, please sub...   \n",
       "4  2021-05-24 19:42:36  Spoke with North American Bitcoin miners. They...   \n",
       "7  2021-05-22 22:22:56                            https://t.co/7afq6DIlzc   \n",
       "11 2021-05-22 09:22:41  Any sufficiently advanced magic is indistingui...   \n",
       "\n",
       "   reply_to   likes              source has_strsearch  \n",
       "0      None   47378  Twitter for iPhone          True  \n",
       "3      None  122412  Twitter for iPhone         False  \n",
       "4      None  219186  Twitter for iPhone         False  \n",
       "7      None  405667  Twitter for iPhone         False  \n",
       "11     None  277856  Twitter for iPhone         False  "
      ]
     },
     "execution_count": 122,
     "metadata": {},
     "output_type": "execute_result"
    }
   ],
   "source": [
    "tweets_df.sort_values(by='time', ascending = False).head()"
   ]
  },
  {
   "cell_type": "code",
   "execution_count": 15,
   "id": "a35f0fef",
   "metadata": {},
   "outputs": [
    {
     "name": "stdout",
     "output_type": "stream",
     "text": [
      "{'asset': 'AUD', 'free': '0.00089342', 'locked': '0.00000000'}\n",
      "0.00089342\n"
     ]
    }
   ],
   "source": [
    "\n",
    "print(shared.client.get_asset_balance(asset='AUD'))\n",
    "print(shared.client.get_asset_balance(asset='AUD')['free'])\n",
    "\n"
   ]
  },
  {
   "cell_type": "code",
   "execution_count": 16,
   "id": "9d02c803",
   "metadata": {},
   "outputs": [],
   "source": [
    "\n",
    "info = shared.client.futures_exchange_info()\n"
   ]
  },
  {
   "cell_type": "code",
   "execution_count": 17,
   "id": "58606875",
   "metadata": {},
   "outputs": [
    {
     "name": "stdout",
     "output_type": "stream",
     "text": [
      "dict_keys(['timezone', 'serverTime', 'futuresType', 'rateLimits', 'exchangeFilters', 'assets', 'symbols'])\n",
      "117\n",
      "4\n",
      "[{'asset': 'USDT', 'autoAssetExchange': '-10000', 'marginAvailable': True},\n",
      " {'asset': 'BTC', 'autoAssetExchange': '-0.00100000', 'marginAvailable': True},\n",
      " {'asset': 'BNB', 'autoAssetExchange': '0', 'marginAvailable': False},\n",
      " {'asset': 'BUSD', 'autoAssetExchange': '-10000', 'marginAvailable': True}]\n"
     ]
    }
   ],
   "source": [
    "\n",
    "\n",
    "#pprint.pprint(info) \n",
    "\n",
    "pprint.pprint(info.keys()) \n",
    "\n",
    "pprint.pprint(len(info['symbols'])) \n",
    "pprint.pprint(len(info['assets'])) \n",
    "pprint.pprint(info['assets'])\n",
    "\n"
   ]
  },
  {
   "cell_type": "code",
   "execution_count": 37,
   "id": "718c6ce1",
   "metadata": {},
   "outputs": [],
   "source": [
    "\n",
    "def get_twitter_data(user = 'elonmusk', num_tweets = 200, stringsearch = 'doge'):\n",
    "    \n",
    "    import platform\n",
    "    import sys\n",
    "    \n",
    "    import twitter\n",
    "    import tweepy\n",
    "\n",
    "    import pandas as pd\n",
    "    \n",
    "    import logging \n",
    "    import re\n",
    "    \n",
    "    # ADDING PATH FOR SHARED PYTHON CODES\n",
    "    print(sys.path)\n",
    "    print('')\n",
    "    print('Length of sys.path is ', len(sys.path))\n",
    "    print('')\n",
    "\n",
    "    # insert at 1, 0 is the script path (or '' in REPL)\n",
    "    if (platform.node() == 'R2D2') and ('D:\\\\OneDrive\\\\Trading\\\\Shared' not in sys.path):\n",
    "        sys.path.insert(1, 'D:\\\\OneDrive\\\\Trading\\\\Shared')\n",
    "\n",
    "    if (platform.node() == 'Yoda') and ('C:\\\\Users\\\\MasterYoda\\\\Documents\\\\OneDrive\\\\Trading\\\\Shared' not in sys.path):\n",
    "        sys.path.insert(1, 'C:\\\\Users\\\\MasterYoda\\\\Documents\\\\OneDrive\\\\Trading\\\\Shared')\n",
    "\n",
    "    print(sys.path)\n",
    "    print('')\n",
    "    print('Length of sys.path is ', len(sys.path))\n",
    "    \n",
    "    \n",
    "    auth = tweepy.OAuthHandler(twitter.consumer_key, twitter.consumer_secret)\n",
    "    auth.set_access_token(twitter.access_token, twitter.access_token_secret)\n",
    "    api = tweepy.API(auth)\n",
    "    \n",
    "    \n",
    "    # CREATING TWEETS DF    \n",
    "    tweets_df = pd.DataFrame(columns = ['time','tweet','reply_to','likes','source', 'has_strsearch'])\n",
    "\n",
    "    for i in tweepy.Cursor(api.user_timeline , id = user, tweetmode = \"extended\", exclude_replies = False , include_rts = True).items(num_tweets):\n",
    "        tweets_df.loc[len(tweets_df)] = [i.created_at, i.text, i.in_reply_to_screen_name, i.favorite_count, i.source,  bool(re.search(stringsearch, i.text , re.IGNORECASE)) ]\n",
    "        \n",
    "    return tweets_df\n"
   ]
  },
  {
   "cell_type": "code",
   "execution_count": 38,
   "id": "61c989c2",
   "metadata": {},
   "outputs": [
    {
     "name": "stdout",
     "output_type": "stream",
     "text": [
      "['D:\\\\OneDrive\\\\Trading\\\\Work', 'D:\\\\OneDrive\\\\Trading\\\\Shared', 'C:\\\\ProgramData\\\\Anaconda3\\\\python38.zip', 'C:\\\\ProgramData\\\\Anaconda3\\\\DLLs', 'C:\\\\ProgramData\\\\Anaconda3\\\\lib', 'C:\\\\ProgramData\\\\Anaconda3', '', 'C:\\\\ProgramData\\\\Anaconda3\\\\lib\\\\site-packages', 'C:\\\\ProgramData\\\\Anaconda3\\\\lib\\\\site-packages\\\\win32', 'C:\\\\ProgramData\\\\Anaconda3\\\\lib\\\\site-packages\\\\win32\\\\lib', 'C:\\\\ProgramData\\\\Anaconda3\\\\lib\\\\site-packages\\\\Pythonwin', 'C:\\\\ProgramData\\\\Anaconda3\\\\lib\\\\site-packages\\\\IPython\\\\extensions', 'C:\\\\Users\\\\karan\\\\.ipython']\n",
      "\n",
      "Length of sys.path is  13\n",
      "\n",
      "['D:\\\\OneDrive\\\\Trading\\\\Work', 'D:\\\\OneDrive\\\\Trading\\\\Shared', 'C:\\\\ProgramData\\\\Anaconda3\\\\python38.zip', 'C:\\\\ProgramData\\\\Anaconda3\\\\DLLs', 'C:\\\\ProgramData\\\\Anaconda3\\\\lib', 'C:\\\\ProgramData\\\\Anaconda3', '', 'C:\\\\ProgramData\\\\Anaconda3\\\\lib\\\\site-packages', 'C:\\\\ProgramData\\\\Anaconda3\\\\lib\\\\site-packages\\\\win32', 'C:\\\\ProgramData\\\\Anaconda3\\\\lib\\\\site-packages\\\\win32\\\\lib', 'C:\\\\ProgramData\\\\Anaconda3\\\\lib\\\\site-packages\\\\Pythonwin', 'C:\\\\ProgramData\\\\Anaconda3\\\\lib\\\\site-packages\\\\IPython\\\\extensions', 'C:\\\\Users\\\\karan\\\\.ipython']\n",
      "\n",
      "Length of sys.path is  13\n"
     ]
    }
   ],
   "source": [
    "\n",
    "tweets_df = get_twitter_data()\n"
   ]
  },
  {
   "cell_type": "code",
   "execution_count": 39,
   "id": "fc00e552",
   "metadata": {},
   "outputs": [
    {
     "data": {
      "text/plain": [
       "(20, 6)"
      ]
     },
     "execution_count": 39,
     "metadata": {},
     "output_type": "execute_result"
    }
   ],
   "source": [
    "tweets_df.shape"
   ]
  },
  {
   "cell_type": "code",
   "execution_count": 40,
   "id": "d0df8c6d",
   "metadata": {},
   "outputs": [
    {
     "data": {
      "text/html": [
       "<div>\n",
       "<style scoped>\n",
       "    .dataframe tbody tr th:only-of-type {\n",
       "        vertical-align: middle;\n",
       "    }\n",
       "\n",
       "    .dataframe tbody tr th {\n",
       "        vertical-align: top;\n",
       "    }\n",
       "\n",
       "    .dataframe thead th {\n",
       "        text-align: right;\n",
       "    }\n",
       "</style>\n",
       "<table border=\"1\" class=\"dataframe\">\n",
       "  <thead>\n",
       "    <tr style=\"text-align: right;\">\n",
       "      <th></th>\n",
       "      <th>time</th>\n",
       "      <th>tweet</th>\n",
       "      <th>reply_to</th>\n",
       "      <th>likes</th>\n",
       "      <th>source</th>\n",
       "      <th>has_strsearch</th>\n",
       "    </tr>\n",
       "  </thead>\n",
       "  <tbody>\n",
       "    <tr>\n",
       "      <th>0</th>\n",
       "      <td>2021-05-27 21:32:40</td>\n",
       "      <td>@Model3Owners Tesla sure would appreciate chan...</td>\n",
       "      <td>Model3Owners</td>\n",
       "      <td>18325</td>\n",
       "      <td>Twitter for iPhone</td>\n",
       "      <td>False</td>\n",
       "    </tr>\n",
       "    <tr>\n",
       "      <th>1</th>\n",
       "      <td>2021-05-27 16:29:47</td>\n",
       "      <td>@waitbutwhy @poweredbyart Exactly</td>\n",
       "      <td>waitbutwhy</td>\n",
       "      <td>27930</td>\n",
       "      <td>Twitter for iPhone</td>\n",
       "      <td>False</td>\n",
       "    </tr>\n",
       "    <tr>\n",
       "      <th>2</th>\n",
       "      <td>2021-05-27 06:49:30</td>\n",
       "      <td>@RationalEtienne @SciGuySpace Potentially, 100...</td>\n",
       "      <td>RationalEtienne</td>\n",
       "      <td>4696</td>\n",
       "      <td>Twitter for iPhone</td>\n",
       "      <td>False</td>\n",
       "    </tr>\n",
       "    <tr>\n",
       "      <th>3</th>\n",
       "      <td>2021-05-27 01:17:39</td>\n",
       "      <td>@AlexSvanArt @Neopork85 Pretty close. No tiles...</td>\n",
       "      <td>AlexSvanArt</td>\n",
       "      <td>12359</td>\n",
       "      <td>Twitter for iPhone</td>\n",
       "      <td>False</td>\n",
       "    </tr>\n",
       "    <tr>\n",
       "      <th>4</th>\n",
       "      <td>2021-05-27 00:41:24</td>\n",
       "      <td>@SciGuySpace Cumulative payload to orbit is th...</td>\n",
       "      <td>SciGuySpace</td>\n",
       "      <td>7424</td>\n",
       "      <td>Twitter for iPhone</td>\n",
       "      <td>False</td>\n",
       "    </tr>\n",
       "    <tr>\n",
       "      <th>5</th>\n",
       "      <td>2021-05-27 00:35:29</td>\n",
       "      <td>RT @Tesla: Just surpassed 200k Powerwall insta...</td>\n",
       "      <td>None</td>\n",
       "      <td>0</td>\n",
       "      <td>Twitter for iPhone</td>\n",
       "      <td>False</td>\n",
       "    </tr>\n",
       "    <tr>\n",
       "      <th>6</th>\n",
       "      <td>2021-05-26 19:50:06</td>\n",
       "      <td>RT @Tesla: If you want to help cover Giga Berl...</td>\n",
       "      <td>None</td>\n",
       "      <td>0</td>\n",
       "      <td>Twitter for iPhone</td>\n",
       "      <td>False</td>\n",
       "    </tr>\n",
       "    <tr>\n",
       "      <th>7</th>\n",
       "      <td>2021-05-26 18:52:25</td>\n",
       "      <td>@BTC_Archive 🤣🤣</td>\n",
       "      <td>BTC_Archive</td>\n",
       "      <td>8123</td>\n",
       "      <td>Twitter for iPhone</td>\n",
       "      <td>False</td>\n",
       "    </tr>\n",
       "    <tr>\n",
       "      <th>8</th>\n",
       "      <td>2021-05-26 18:52:03</td>\n",
       "      <td>RT @SpaceX: Today's flight will mark the 40th ...</td>\n",
       "      <td>None</td>\n",
       "      <td>0</td>\n",
       "      <td>Twitter for iPhone</td>\n",
       "      <td>False</td>\n",
       "    </tr>\n",
       "    <tr>\n",
       "      <th>9</th>\n",
       "      <td>2021-05-26 18:51:58</td>\n",
       "      <td>RT @SpaceX: Watch Falcon 9 launch 60 Starlink ...</td>\n",
       "      <td>None</td>\n",
       "      <td>0</td>\n",
       "      <td>Twitter for iPhone</td>\n",
       "      <td>False</td>\n",
       "    </tr>\n",
       "    <tr>\n",
       "      <th>10</th>\n",
       "      <td>2021-05-26 18:49:21</td>\n",
       "      <td>If only they had spaceships, they’d still be a...</td>\n",
       "      <td>elonmusk</td>\n",
       "      <td>122925</td>\n",
       "      <td>Twitter for iPhone</td>\n",
       "      <td>False</td>\n",
       "    </tr>\n",
       "    <tr>\n",
       "      <th>11</th>\n",
       "      <td>2021-05-26 18:47:30</td>\n",
       "      <td>Deep thots https://t.co/J5mJff7IIL</td>\n",
       "      <td>None</td>\n",
       "      <td>269958</td>\n",
       "      <td>Twitter for iPhone</td>\n",
       "      <td>False</td>\n",
       "    </tr>\n",
       "    <tr>\n",
       "      <th>12</th>\n",
       "      <td>2021-05-26 18:39:36</td>\n",
       "      <td>@WholeMarsBlog Not sure who wrote this, but it...</td>\n",
       "      <td>WholeMarsBlog</td>\n",
       "      <td>6733</td>\n",
       "      <td>Twitter for iPhone</td>\n",
       "      <td>False</td>\n",
       "    </tr>\n",
       "    <tr>\n",
       "      <th>13</th>\n",
       "      <td>2021-05-26 07:35:51</td>\n",
       "      <td>@Caspar_Stanley @Erdayastronaut @SpaceX @Super...</td>\n",
       "      <td>Caspar_Stanley</td>\n",
       "      <td>3556</td>\n",
       "      <td>Twitter for iPhone</td>\n",
       "      <td>False</td>\n",
       "    </tr>\n",
       "    <tr>\n",
       "      <th>14</th>\n",
       "      <td>2021-05-26 00:27:00</td>\n",
       "      <td>@Astro_Elliott @Teslarati @ResidentSponge Aimi...</td>\n",
       "      <td>Astro_Elliott</td>\n",
       "      <td>7515</td>\n",
       "      <td>Twitter for iPhone</td>\n",
       "      <td>False</td>\n",
       "    </tr>\n",
       "    <tr>\n",
       "      <th>15</th>\n",
       "      <td>2021-05-26 00:25:53</td>\n",
       "      <td>@IlyaRosenberg @Caspar_Stanley @Erdayastronaut...</td>\n",
       "      <td>IlyaRosenberg</td>\n",
       "      <td>5327</td>\n",
       "      <td>Twitter for iPhone</td>\n",
       "      <td>False</td>\n",
       "    </tr>\n",
       "    <tr>\n",
       "      <th>16</th>\n",
       "      <td>2021-05-26 00:22:31</td>\n",
       "      <td>@Teslarati @ResidentSponge Pure vision Autopil...</td>\n",
       "      <td>Teslarati</td>\n",
       "      <td>13809</td>\n",
       "      <td>Twitter for iPhone</td>\n",
       "      <td>False</td>\n",
       "    </tr>\n",
       "    <tr>\n",
       "      <th>17</th>\n",
       "      <td>2021-05-26 00:14:54</td>\n",
       "      <td>@Teslarati @13ericralph31 Exactly 🤣🤣</td>\n",
       "      <td>Teslarati</td>\n",
       "      <td>28392</td>\n",
       "      <td>Twitter for iPhone</td>\n",
       "      <td>False</td>\n",
       "    </tr>\n",
       "    <tr>\n",
       "      <th>18</th>\n",
       "      <td>2021-05-26 00:14:18</td>\n",
       "      <td>@Caspar_Stanley @Erdayastronaut @SpaceX @Super...</td>\n",
       "      <td>Caspar_Stanley</td>\n",
       "      <td>4171</td>\n",
       "      <td>Twitter for iPhone</td>\n",
       "      <td>False</td>\n",
       "    </tr>\n",
       "    <tr>\n",
       "      <th>19</th>\n",
       "      <td>2021-05-25 20:16:51</td>\n",
       "      <td>@itsALLrisky Please note Dogecoin has no forma...</td>\n",
       "      <td>itsALLrisky</td>\n",
       "      <td>33761</td>\n",
       "      <td>Twitter for iPhone</td>\n",
       "      <td>True</td>\n",
       "    </tr>\n",
       "  </tbody>\n",
       "</table>\n",
       "</div>"
      ],
      "text/plain": [
       "                  time                                              tweet  \\\n",
       "0  2021-05-27 21:32:40  @Model3Owners Tesla sure would appreciate chan...   \n",
       "1  2021-05-27 16:29:47                  @waitbutwhy @poweredbyart Exactly   \n",
       "2  2021-05-27 06:49:30  @RationalEtienne @SciGuySpace Potentially, 100...   \n",
       "3  2021-05-27 01:17:39  @AlexSvanArt @Neopork85 Pretty close. No tiles...   \n",
       "4  2021-05-27 00:41:24  @SciGuySpace Cumulative payload to orbit is th...   \n",
       "5  2021-05-27 00:35:29  RT @Tesla: Just surpassed 200k Powerwall insta...   \n",
       "6  2021-05-26 19:50:06  RT @Tesla: If you want to help cover Giga Berl...   \n",
       "7  2021-05-26 18:52:25                                    @BTC_Archive 🤣🤣   \n",
       "8  2021-05-26 18:52:03  RT @SpaceX: Today's flight will mark the 40th ...   \n",
       "9  2021-05-26 18:51:58  RT @SpaceX: Watch Falcon 9 launch 60 Starlink ...   \n",
       "10 2021-05-26 18:49:21  If only they had spaceships, they’d still be a...   \n",
       "11 2021-05-26 18:47:30                 Deep thots https://t.co/J5mJff7IIL   \n",
       "12 2021-05-26 18:39:36  @WholeMarsBlog Not sure who wrote this, but it...   \n",
       "13 2021-05-26 07:35:51  @Caspar_Stanley @Erdayastronaut @SpaceX @Super...   \n",
       "14 2021-05-26 00:27:00  @Astro_Elliott @Teslarati @ResidentSponge Aimi...   \n",
       "15 2021-05-26 00:25:53  @IlyaRosenberg @Caspar_Stanley @Erdayastronaut...   \n",
       "16 2021-05-26 00:22:31  @Teslarati @ResidentSponge Pure vision Autopil...   \n",
       "17 2021-05-26 00:14:54               @Teslarati @13ericralph31 Exactly 🤣🤣   \n",
       "18 2021-05-26 00:14:18  @Caspar_Stanley @Erdayastronaut @SpaceX @Super...   \n",
       "19 2021-05-25 20:16:51  @itsALLrisky Please note Dogecoin has no forma...   \n",
       "\n",
       "           reply_to   likes              source has_strsearch  \n",
       "0      Model3Owners   18325  Twitter for iPhone         False  \n",
       "1        waitbutwhy   27930  Twitter for iPhone         False  \n",
       "2   RationalEtienne    4696  Twitter for iPhone         False  \n",
       "3       AlexSvanArt   12359  Twitter for iPhone         False  \n",
       "4       SciGuySpace    7424  Twitter for iPhone         False  \n",
       "5              None       0  Twitter for iPhone         False  \n",
       "6              None       0  Twitter for iPhone         False  \n",
       "7       BTC_Archive    8123  Twitter for iPhone         False  \n",
       "8              None       0  Twitter for iPhone         False  \n",
       "9              None       0  Twitter for iPhone         False  \n",
       "10         elonmusk  122925  Twitter for iPhone         False  \n",
       "11             None  269958  Twitter for iPhone         False  \n",
       "12    WholeMarsBlog    6733  Twitter for iPhone         False  \n",
       "13   Caspar_Stanley    3556  Twitter for iPhone         False  \n",
       "14    Astro_Elliott    7515  Twitter for iPhone         False  \n",
       "15    IlyaRosenberg    5327  Twitter for iPhone         False  \n",
       "16        Teslarati   13809  Twitter for iPhone         False  \n",
       "17        Teslarati   28392  Twitter for iPhone         False  \n",
       "18   Caspar_Stanley    4171  Twitter for iPhone         False  \n",
       "19      itsALLrisky   33761  Twitter for iPhone          True  "
      ]
     },
     "execution_count": 40,
     "metadata": {},
     "output_type": "execute_result"
    }
   ],
   "source": [
    "tweets_df"
   ]
  }
 ],
 "metadata": {
  "kernelspec": {
   "display_name": "Python 3",
   "language": "python",
   "name": "python3"
  },
  "language_info": {
   "codemirror_mode": {
    "name": "ipython",
    "version": 3
   },
   "file_extension": ".py",
   "mimetype": "text/x-python",
   "name": "python",
   "nbconvert_exporter": "python",
   "pygments_lexer": "ipython3",
   "version": "3.8.8"
  }
 },
 "nbformat": 4,
 "nbformat_minor": 5
}
