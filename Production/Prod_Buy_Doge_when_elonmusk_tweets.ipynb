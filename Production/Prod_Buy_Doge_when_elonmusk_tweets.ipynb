{
 "cells": [
  {
   "cell_type": "code",
   "execution_count": 1,
   "id": "c5ae2b58",
   "metadata": {},
   "outputs": [],
   "source": [
    "#!pip install tweepy"
   ]
  },
  {
   "cell_type": "code",
   "execution_count": null,
   "id": "4dfecab0",
   "metadata": {},
   "outputs": [],
   "source": []
  },
  {
   "cell_type": "code",
   "execution_count": 2,
   "id": "bb90fb1c",
   "metadata": {},
   "outputs": [
    {
     "data": {
      "text/plain": [
       "'\\nPURPOSE : THIS CODE AUTOMATES THE BUY OF DOGE WITHIN 15s span of Elon Musk Tweeting\\n'"
      ]
     },
     "execution_count": 2,
     "metadata": {},
     "output_type": "execute_result"
    }
   ],
   "source": [
    "\n",
    "'''\n",
    "PURPOSE : THIS CODE AUTOMATES THE BUY OF DOGE WITHIN 15s span of Elon Musk Tweeting\n",
    "'''\n"
   ]
  },
  {
   "cell_type": "code",
   "execution_count": 3,
   "id": "067454fc",
   "metadata": {},
   "outputs": [],
   "source": [
    "\n",
    "# Variable for binance buy \n",
    "symbol_buy = 'DOGEUSDT'\n",
    "margintype_arg = 'ISOLATED' \n",
    "\n",
    "#leverage_arg = 50\n",
    "leverage_arg = 1\n",
    "\n",
    "percentage_buy = 0.25\n",
    "\n",
    "# Variable for tweet collection  \n",
    "\n",
    "number_of_tweets = 1\n",
    "stringsearch = 'doge'\n",
    "enter_the_dragon = True\n",
    "\n",
    "#userid = 'elonmusk'\n",
    "userid = 'MoMorMorpheus'\n",
    "\n",
    "# Wait between tweet collection & amongst other parts of the code \n",
    "wait_in_seconds = 30\n",
    "\n",
    "\n",
    "# To handle tweepy connection issues\n",
    "tweet_missed = 0\n",
    "tweet_found = 0\n",
    "\n"
   ]
  },
  {
   "cell_type": "markdown",
   "id": "c0df9e8a",
   "metadata": {},
   "source": [
    "# FUTURES.PY "
   ]
  },
  {
   "cell_type": "markdown",
   "id": "3d7eda76",
   "metadata": {},
   "source": [
    "## WHICH COMPUTER?  "
   ]
  },
  {
   "cell_type": "code",
   "execution_count": 4,
   "id": "6e23450a",
   "metadata": {},
   "outputs": [
    {
     "data": {
      "text/plain": [
       "\"\\nif platform.node() = 'R2D2':\\n    print('My own computer')\\nif platform.node() = 'wormhole':\\n    print('Remote server')\\n\\n\""
      ]
     },
     "execution_count": 4,
     "metadata": {},
     "output_type": "execute_result"
    }
   ],
   "source": [
    "import platform\n",
    "\n",
    "'''\n",
    "if platform.node() = 'R2D2':\n",
    "    print('My own computer')\n",
    "if platform.node() = 'wormhole':\n",
    "    print('Remote server')\n",
    "\n",
    "'''"
   ]
  },
  {
   "cell_type": "markdown",
   "id": "bdcb409a",
   "metadata": {},
   "source": [
    "## ADDING THE SHARED FOLDER TO SYS.PATH FOR IMPORTING SHARED FILES  "
   ]
  },
  {
   "cell_type": "code",
   "execution_count": 5,
   "id": "8d83f6be",
   "metadata": {},
   "outputs": [
    {
     "name": "stdout",
     "output_type": "stream",
     "text": [
      "['D:\\\\GDrive\\\\Trading\\\\Work\\\\Twitter', 'C:\\\\ProgramData\\\\Anaconda3\\\\python38.zip', 'C:\\\\ProgramData\\\\Anaconda3\\\\DLLs', 'C:\\\\ProgramData\\\\Anaconda3\\\\lib', 'C:\\\\ProgramData\\\\Anaconda3', '', 'C:\\\\ProgramData\\\\Anaconda3\\\\lib\\\\site-packages', 'C:\\\\ProgramData\\\\Anaconda3\\\\lib\\\\site-packages\\\\win32', 'C:\\\\ProgramData\\\\Anaconda3\\\\lib\\\\site-packages\\\\win32\\\\lib', 'C:\\\\ProgramData\\\\Anaconda3\\\\lib\\\\site-packages\\\\Pythonwin', 'C:\\\\ProgramData\\\\Anaconda3\\\\lib\\\\site-packages\\\\IPython\\\\extensions', 'C:\\\\Users\\\\karan\\\\.ipython']\n",
      "\n",
      "Length of sys.path is  12\n",
      "\n",
      "['D:\\\\GDrive\\\\Trading\\\\Work\\\\Twitter', 'D:\\\\OneDrive\\\\Trading\\\\Shared', 'C:\\\\ProgramData\\\\Anaconda3\\\\python38.zip', 'C:\\\\ProgramData\\\\Anaconda3\\\\DLLs', 'C:\\\\ProgramData\\\\Anaconda3\\\\lib', 'C:\\\\ProgramData\\\\Anaconda3', '', 'C:\\\\ProgramData\\\\Anaconda3\\\\lib\\\\site-packages', 'C:\\\\ProgramData\\\\Anaconda3\\\\lib\\\\site-packages\\\\win32', 'C:\\\\ProgramData\\\\Anaconda3\\\\lib\\\\site-packages\\\\win32\\\\lib', 'C:\\\\ProgramData\\\\Anaconda3\\\\lib\\\\site-packages\\\\Pythonwin', 'C:\\\\ProgramData\\\\Anaconda3\\\\lib\\\\site-packages\\\\IPython\\\\extensions', 'C:\\\\Users\\\\karan\\\\.ipython']\n",
      "\n",
      "Length of sys.path is  13\n"
     ]
    }
   ],
   "source": [
    "\n",
    "import sys\n",
    "\n",
    "print(sys.path)\n",
    "print('')\n",
    "print('Length of sys.path is ', len(sys.path))\n",
    "print('')\n",
    "\n",
    "# insert at 1, 0 is the script path (or '' in REPL)\n",
    "if (platform.node() == 'R2D2') and ('D:\\\\OneDrive\\\\Trading\\\\Shared' not in sys.path):\n",
    "    sys.path.insert(1, 'D:\\\\OneDrive\\\\Trading\\\\Shared')\n",
    "    \n",
    "if (platform.node() == 'wormhole') and ('C:\\\\Users\\\\frappucino\\\\Documents\\\\Trading\\\\Shared' not in sys.path):\n",
    "    sys.path.insert(1, 'C:\\\\Users\\\\frappucino\\\\Documents\\\\Trading\\\\Shared')\n",
    "\n",
    "print(sys.path)\n",
    "print('')\n",
    "print('Length of sys.path is ', len(sys.path))\n"
   ]
  },
  {
   "cell_type": "markdown",
   "id": "1a36cef4",
   "metadata": {},
   "source": [
    "### IMPORTING SHARED FILES"
   ]
  },
  {
   "cell_type": "code",
   "execution_count": 6,
   "id": "c87e0f90",
   "metadata": {},
   "outputs": [],
   "source": [
    "\n",
    "import shared\n",
    "#import funcs\n",
    "import twitter\n"
   ]
  },
  {
   "cell_type": "markdown",
   "id": "900846c9",
   "metadata": {},
   "source": [
    "### IMPORTING OTHER MODULES"
   ]
  },
  {
   "cell_type": "code",
   "execution_count": 7,
   "id": "edd42f75",
   "metadata": {},
   "outputs": [],
   "source": [
    "\n",
    "import datetime\n",
    "import pandas as pd\n",
    "import pytz, pprint\n",
    "import pprint \n",
    "import math\n"
   ]
  },
  {
   "cell_type": "code",
   "execution_count": 8,
   "id": "816e319e",
   "metadata": {},
   "outputs": [],
   "source": [
    "# for creating folders \n",
    "import os\n",
    "\n",
    "\n",
    "# for looping\n",
    "import time\n"
   ]
  },
  {
   "cell_type": "code",
   "execution_count": 9,
   "id": "65f2fc9e",
   "metadata": {},
   "outputs": [],
   "source": [
    "# for logging\n",
    "\n",
    "import logging \n",
    "from datetime import date\n",
    "import datetime\n"
   ]
  },
  {
   "cell_type": "code",
   "execution_count": 10,
   "id": "b39407b5",
   "metadata": {},
   "outputs": [],
   "source": [
    "# for twittermining\n",
    "import tweepy\n",
    "import re"
   ]
  },
  {
   "cell_type": "code",
   "execution_count": 11,
   "id": "a80ae44c",
   "metadata": {},
   "outputs": [
    {
     "name": "stdout",
     "output_type": "stream",
     "text": [
      "2021-06-07 13:58:55.597665\n",
      "Automated twitter order BEGUN\n"
     ]
    }
   ],
   "source": [
    "\n",
    "print(datetime.datetime.now())\n",
    "\n",
    "print('Automated twitter order BEGUN')\n"
   ]
  },
  {
   "cell_type": "code",
   "execution_count": 12,
   "id": "b08807a0",
   "metadata": {},
   "outputs": [],
   "source": [
    "\n",
    "#print(type(datetime.datetime.now().strftime(\"%Y_%m_%d_%H_%M\")))\n",
    "#print(datetime.datetime.now().strftime(\"%Y_%m_%d_%H_%M\"))\n",
    "      "
   ]
  },
  {
   "cell_type": "markdown",
   "id": "c442fdf9",
   "metadata": {},
   "source": [
    "### DEFINIING THE LOGFILE ATTRIBUTES"
   ]
  },
  {
   "cell_type": "code",
   "execution_count": 13,
   "id": "b1307adb",
   "metadata": {},
   "outputs": [],
   "source": [
    "\n",
    "# setting logger level for output\n",
    "\n",
    "# insert at 1, 0 is the script path (or '' in REPL)\n",
    "\n",
    "logfilename = 'Automated_TwitterMining_{}.log'.format(date.today().strftime(\"%Y_%m_%d\"))\n",
    "\n",
    "if (platform.node() == 'R2D2'):\n",
    "    logging.basicConfig(handlers= [logging.FileHandler( 'D:\\\\OneDrive\\\\Trading\\\\Logs\\\\{}'.format(logfilename), 'w', 'utf-8')]\n",
    "                        # filename = 'D:\\\\OneDrive\\\\Trading\\\\Logs\\\\{}'.format(logfilename)\n",
    "                        , level = logging.DEBUG\n",
    "                        , force = True\n",
    "                        , format = '%(asctime)s:\\t%(message)s'\n",
    "                        , datefmt ='%Y-%m-%d %H:%M')\n",
    "    \n",
    "if (platform.node() == 'wormhole'):\n",
    "    logging.basicConfig(handlers= [logging.FileHandler( 'C:\\\\Users\\\\frappucino\\\\Documents\\\\Trading\\\\Logs\\\\{}'.format(logfilename), 'w', 'utf-8')]\n",
    "                        #, filename='C:\\\\Users\\\\MasterYoda\\\\Documents\\\\OneDrive\\\\Trading\\\\Logs\\\\{}'.format(logfilename)\n",
    "                        , level=logging.DEBUG\n",
    "                        , force =True\n",
    "                        , format='%(asctime)s:\\t%(message)s'\n",
    "                        , datefmt='%Y-%m-%d %H:%M')\n"
   ]
  },
  {
   "cell_type": "code",
   "execution_count": 14,
   "id": "df6c98ab",
   "metadata": {},
   "outputs": [
    {
     "name": "stdout",
     "output_type": "stream",
     "text": [
      "Logger defined at 2021-06-07 13:58:55.667478\n"
     ]
    }
   ],
   "source": [
    "\n",
    "logger = logging.getLogger()\n",
    "\n",
    "#logger.setLevel(level= logging.DEBUG) \n",
    "logger.setLevel(level= logging.INFO) \n",
    "\n",
    "print('Logger defined at {}'.format(datetime.datetime.now()))\n",
    "logging.info('Logger defined')\n"
   ]
  },
  {
   "cell_type": "code",
   "execution_count": 15,
   "id": "24be4b27",
   "metadata": {},
   "outputs": [
    {
     "name": "stdout",
     "output_type": "stream",
     "text": [
      "Twitter auth at 2021-06-07 13:58:55.702390\n"
     ]
    }
   ],
   "source": [
    "\n",
    "# Twitter analysis \n",
    "\n",
    "auth = tweepy.OAuthHandler(twitter.consumer_key, twitter.consumer_secret)\n",
    "auth.set_access_token(twitter.access_token, twitter.access_token_secret)\n",
    "api = tweepy.API(auth, wait_on_rate_limit=True, wait_on_rate_limit_notify=True)\n",
    "\n",
    "print('Twitter auth at {}'.format(datetime.datetime.now()))\n",
    "logging.info('Twitter auth')\n"
   ]
  },
  {
   "cell_type": "markdown",
   "id": "357c3700",
   "metadata": {},
   "source": [
    "\n",
    "### UPDATE BINANCE METRICS a) which symbol to buy b) margintype c) leverage \n"
   ]
  },
  {
   "cell_type": "code",
   "execution_count": 16,
   "id": "0a0df87e",
   "metadata": {},
   "outputs": [
    {
     "name": "stdout",
     "output_type": "stream",
     "text": [
      "Binance mets updated at 2021-06-07 13:58:56.141936\n"
     ]
    }
   ],
   "source": [
    "\n",
    "# CHANGING MARGIN HERE\n",
    "try:\n",
    "    success = shared.client_future.futures_change_margin_type(symbol = symbol_buy, marginType = margintype_arg)\n",
    "    if success['msg'] == 'success':\n",
    "        logging.info('Margin changed to \\'{}\\' '.format(margintype_arg))\n",
    "except:\n",
    "    logging.info('Margin is \\'{}\\' , already'.format(margintype_arg))\n",
    "\n",
    "# CHANGING LEVERAGE HERE\n",
    "try:\n",
    "    shared.client_future.futures_change_leverage(symbol = symbol_buy, leverage = leverage_arg)\n",
    "    logging.info('Leverage changed to {}'.format(leverage_arg))\n",
    "except:\n",
    "    logging.info('Change leverage from \\'{}\\', did not work'.format(leverage_arg))\n",
    "\n",
    "print('Binance mets updated at {}'.format(datetime.datetime.now()))\n",
    "logging.info('Binance mets updated')\n",
    "time.sleep(60)\n"
   ]
  },
  {
   "cell_type": "markdown",
   "id": "ed202d1c",
   "metadata": {},
   "source": [
    "### d) percentage_buy for quantity"
   ]
  },
  {
   "cell_type": "code",
   "execution_count": 17,
   "id": "74a2fcfb",
   "metadata": {},
   "outputs": [
    {
     "name": "stdout",
     "output_type": "stream",
     "text": [
      "With balance:81.86788644, percentage_buy:0.25, portion_balance:20.46697161, price:0.37572, quantity_buy:54, precision:0, step_size:0\n",
      "Buy quantity updated at 2021-06-07 13:59:56.836528\n"
     ]
    }
   ],
   "source": [
    "\n",
    "# You ask for the balance\n",
    "future_account_balance = shared.client_future.futures_account_balance()\n",
    "#print(future_account_balance)\n",
    "\n",
    "for bal_loop_var in future_account_balance:\n",
    "    if bal_loop_var['asset']=='USDT':\n",
    "        balance = float(bal_loop_var['balance'])\n",
    "        balance_usable = float(bal_loop_var['withdrawAvailable'])\n",
    "\n",
    "#print(type(balance))\n",
    "#print(balance)\n",
    "\n",
    "# set the percentage or fraction you want to invest in each order\n",
    "portion_balance = balance_usable*percentage_buy\n",
    "\n",
    "#print(type(portion_balance))\n",
    "#print(portion_balance)\n",
    "\n",
    "# based on precision get the quantity you can buy \n",
    "step_size = 0\n",
    "\n",
    "'''\n",
    "\n",
    "# MANUALLY INSERTING PRECISION \n",
    "\n",
    "for f in symbol_info['filters']:\n",
    "    if f['filterType'] == 'LOT_SIZE':\n",
    "        step_size = float(f['stepSize'])\n",
    "        print(step_size)\n",
    "\n",
    "precision = int(round(-math.log(step_size, 10), 0))\n",
    "'''\n",
    "\n",
    "precision = 0\n",
    "\n",
    "price = float(shared.client_future.futures_symbol_ticker(symbol = symbol_buy)['price'])\n",
    "\n",
    "quantity_buy = portion_balance / price\n",
    "#print(quantity_buy)\n",
    "#quantity_buy = float(round(quantity_buy, precision))\n",
    "quantity_buy = math.floor(quantity_buy)\n",
    "#print(type(quantity_buy))\n",
    "#print(quantity_buy)\n",
    "\n",
    "print('With balance:{}, percentage_buy:{}, portion_balance:{}, price:{}, quantity_buy:{}, precision:{}, step_size:{}'.format(balance_usable, percentage_buy, portion_balance, price, quantity_buy, precision, step_size))\n",
    "logging.info('With balance:{}, percentage_buy:{}, portion_balance:{}, price:{}, quantity_buy:{}, precision:{}, step_size:{}'.format(balance_usable, percentage_buy, portion_balance, price, quantity_buy, precision, step_size))\n",
    "\n",
    "print('Buy quantity updated at {}'.format(datetime.datetime.now()))\n",
    "logging.info('Buy quantity updated at')\n"
   ]
  },
  {
   "cell_type": "markdown",
   "id": "f622ea90",
   "metadata": {},
   "source": [
    "### TWITTER ALGO"
   ]
  },
  {
   "cell_type": "code",
   "execution_count": null,
   "id": "41701ae4",
   "metadata": {},
   "outputs": [
    {
     "name": "stdout",
     "output_type": "stream",
     "text": [
      "RT :  https://t.co/HI4NVqiiqG\n",
      "2021-06-07 13:59:58.800676\n",
      "First tweet found at 2021-06-07 13:59:58.801673 and is RT @TheHarshTrader: @elonmusk https://t.co/HI4NVqiiqG\n",
      "<tweepy.cursor.ItemIterator object at 0x000001913BF67100>\n",
      "Inserting row at 0\n",
      "Value of tweet from cursor is RT @TheHarshTrader: @elonmusk https://t.co/HI4NVqiiqG \n",
      "Tweet from this_tweets_df is ['RT :  https://t.co/HI4NVqiiqG']\n",
      "Buy Binance loop will run based 'doge' search: [False]\n",
      "(1, 6)\n",
      "this_tweets_df has been created and is not empty\n",
      "tweet_missed:0, tweet_found:1\n",
      "\n",
      "<tweepy.cursor.ItemIterator object at 0x000001913BF679A0>\n",
      "Inserting row at 0\n",
      "Value of tweet from cursor is RT @TheHarshTrader: @elonmusk https://t.co/HI4NVqiiqG \n",
      "Tweet from this_tweets_df is ['RT :  https://t.co/HI4NVqiiqG']\n",
      "Buy Binance loop will run based 'doge' search: [False]\n",
      "(1, 6)\n",
      "this_tweets_df has been created and is not empty\n",
      "tweet_missed:0, tweet_found:2\n",
      "\n"
     ]
    }
   ],
   "source": [
    "\n",
    "# GET FIRST TWEET\n",
    "tweets_df = pd.DataFrame(columns = ['time','tweet','reply_to','likes','source', 'has_strsearch'])\n",
    "\n",
    "\n",
    "#for i in tweepy.Cursor(api.user_timeline , id = 'elonmusk', tweetmode = \"extended\", exclude_replies = False , include_rts = True).items(number_of_tweets):\n",
    "for i in tweepy.Cursor(api.user_timeline , id = userid, tweetmode = \"extended\", exclude_replies = False , include_rts = True).items(number_of_tweets):\n",
    "    #print('\\tLast tweet is \\'{}\\''.format(i.text))\n",
    "    logging.info('\\tLast tweet is \\'{}\\''.format(i.text))\n",
    "    last_tweet = i.text\n",
    "    last_tweet_clean = re.sub(r'@\\w+', '', i.text)\n",
    "    print(last_tweet_clean)\n",
    "    tweets_df.loc[len(tweets_df)] = [i.created_at, last_tweet_clean, i.in_reply_to_screen_name, i.favorite_count, i.source,  bool(re.search(stringsearch, last_tweet_clean , re.IGNORECASE)) ]\n",
    "    print(datetime.datetime.now())\n",
    "\n",
    "print('First tweet found at {} and is {}'.format(datetime.datetime.now(), last_tweet ) )\n",
    "logging.info('First tweet defined is {}'.format(last_tweet_clean))\n",
    "\n",
    "\n",
    "\n",
    "\n",
    "# WHILE LAST TWEET DOES NOT CONTAIN DOGE, RUN LOOP\n",
    "while (enter_the_dragon):\n",
    "    #print('')\n",
    "    logging.info('')\n",
    "    this_tweets_df = pd.DataFrame(columns = ['time','tweet','reply_to','likes','source', 'has_strsearch'])\n",
    "    \n",
    "    \n",
    "    # IF Tweepy causes error then wait for another 20 minutes and then run\n",
    "    while True:\n",
    "        try:\n",
    "            tweets = tweepy.Cursor(api.user_timeline , id = userid, tweetmode = \"extended\", exclude_replies = False , include_rts = True).items(number_of_tweets)\n",
    "        except tweepy.TweepError:\n",
    "            print('Tweepy Error, wati another 120 seconds and try againg')\n",
    "            logging.debug('Tweepy Error, wati another 120 seconds and try againg')\n",
    "            time.sleep(120) # sleep for 2 minutes\n",
    "            continue\n",
    "        else:\n",
    "            break\n",
    "\n",
    "    print(tweets)\n",
    "    logging.info(tweets)\n",
    "\n",
    "    #for i in tweepy.Cursor(api.user_timeline , id = 'elonmusk', tweetmode = \"extended\", exclude_replies = False , include_rts = True).items(number_of_tweets):\n",
    "    #for i in tweepy.Cursor(api.user_timeline , id = userid, tweetmode = \"extended\", exclude_replies = False , include_rts = True).items(number_of_tweets):\n",
    "    \n",
    "    for i in tweets:        \n",
    "        print('Inserting row at {}'.format(len(this_tweets_df)))\n",
    "        logging.info('Inserting row at {}'.format(len(this_tweets_df)))\n",
    "        \n",
    "        this_tweet = i.text\n",
    "        print('Value of tweet from cursor is {} '.format(i.text))\n",
    "        logging.info('Value of tweet from cursor is {} '.format(i.text))\n",
    "        \n",
    "        this_tweet_clean = re.sub(r'@\\w+', '', i.text)        \n",
    "        this_tweets_df.loc[len(this_tweets_df)] = [i.created_at, this_tweet_clean, i.in_reply_to_screen_name, i.favorite_count, i.source,  bool(re.search(stringsearch, this_tweet_clean , re.IGNORECASE))]\n",
    "        \n",
    "        print('Tweet from this_tweets_df is {}'.format(this_tweets_df.tweet.tolist()))\n",
    "        logging.info('Tweet form this_tweets_df is {} '.format(this_tweets_df.tweet.tolist()))\n",
    "\n",
    "        logging.info('Buy Binance loop will run based on \\'doge\\' search: {}'.format(this_tweets_df.has_strsearch.tolist()))\n",
    "        print('Buy Binance loop will run based \\'doge\\' search: {}'.format(this_tweets_df.has_strsearch.tolist()))\n",
    "                \n",
    "        print(this_tweets_df.shape)\n",
    "        logging.info(this_tweets_df.shape)\n",
    "                \n",
    "        \n",
    "    if not this_tweets_df.empty:\n",
    "        print('this_tweets_df has been created and is not empty')\n",
    "        logging.info('this_tweets_df has been created and is not empty')\n",
    "        tweet_found = tweet_found + 1\n",
    "        \n",
    "        if (this_tweets_df.has_strsearch.tolist()[0]) & (this_tweet != last_tweet):\n",
    "\n",
    "            #print('\\tExecute buy doge order on binance')\n",
    "            #orderdetails = shared.client_future.futures_create_order(symbol=symbol_buy, side='BUY', type='MARKET', quantity = quantity_buy)\n",
    "            order_details = shared.client_future.futures_create_order(symbol = symbol_buy\n",
    "                                                                    , side=shared.client_future.SIDE_BUY\n",
    "                                                                    , type = shared.client_future.ORDER_TYPE_MARKET\n",
    "                                                                    , quantity = quantity_buy)\n",
    "            logging.info('\\tExecuted buy doge order on binance')\n",
    "            enter_the_dragon = False\n",
    "\n",
    "            for orders in shared.client_future.futures_account_trades()[-10:]:\n",
    "                if orders['orderId'] == order_details['orderId']:\n",
    "                    price_bought_at = orders['price']\n",
    "                    qty_bought_at = orders['qty']\n",
    "                    orderdetails_sell_trailing_stop = shared.client_future.futures_create_order(symbol = symbol_buy\n",
    "                                                                                                , type = \"TRAILING_STOP_MARKET\"\n",
    "                                                                                                , callbackRate = call_back_rate_arg\n",
    "                                                                                                , side = shared.client_future.SIDE_SELL\n",
    "                                                                                                , quantity= qty_bought_at\n",
    "                                                                                                , reduceOnly = False\n",
    "                                                                                                , activatePrice = price_bought_at )\n",
    "\n",
    "\n",
    "            #print('\\tExit')\n",
    "            logging.info('\\tExit')\n",
    "            break\n",
    "        else:\n",
    "            #print('\\tNo doge found in THIS tweet, wait for another {} seconds '.format(wait_in_seconds))\n",
    "            logging.info('\\tNo doge found in THIS tweet, wait for another {} seconds '.format(wait_in_seconds))\n",
    "\n",
    "    else:\n",
    "        print('This_tweets_df NOT created, check code after run. It will continue for now after wait time of {} seconds...'.format(wait_in_seconds))\n",
    "        logging.info('This_tweets_df NOT created, check code after run. It will continue for now after wait time of {} seconds...'.format(wait_in_seconds))\n",
    "        tweet_missed = tweet_missed + 1\n",
    "        \n",
    "    del this_tweets_df\n",
    "    print('tweet_missed:{}, tweet_found:{}'.format(tweet_missed, tweet_found))\n",
    "    logging.info('tweet_missed:{}, tweet_found:{}'.format(tweet_missed, tweet_found))\n",
    "    print('')\n",
    "\n",
    "    time.sleep(wait_in_seconds)\n",
    "    #logging.info(datetime.datetime.now())\n"
   ]
  },
  {
   "cell_type": "code",
   "execution_count": null,
   "id": "47ea592a",
   "metadata": {},
   "outputs": [],
   "source": [
    "\n",
    "print('RUN ALL ABOVE')\n"
   ]
  }
 ],
 "metadata": {
  "kernelspec": {
   "display_name": "Python 3",
   "language": "python",
   "name": "python3"
  },
  "language_info": {
   "codemirror_mode": {
    "name": "ipython",
    "version": 3
   },
   "file_extension": ".py",
   "mimetype": "text/x-python",
   "name": "python",
   "nbconvert_exporter": "python",
   "pygments_lexer": "ipython3",
   "version": "3.8.8"
  }
 },
 "nbformat": 4,
 "nbformat_minor": 5
}
